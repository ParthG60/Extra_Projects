{
  "cells": [
    {
      "cell_type": "markdown",
      "metadata": {
        "id": "view-in-github",
        "colab_type": "text"
      },
      "source": [
        "<a href=\"https://colab.research.google.com/github/ParthG60/Extra_Projects/blob/main/coded_correspondence.ipynb\" target=\"_parent\"><img src=\"https://colab.research.google.com/assets/colab-badge.svg\" alt=\"Open In Colab\"/></a>"
      ]
    },
    {
      "cell_type": "markdown",
      "metadata": {
        "id": "MSWeLnpVmodG"
      },
      "source": [
        "# Casual Coded Correspondence: The Project\n",
        "\n",
        "In this project, you will be working to code and decode various messages between you and your fictional cryptography enthusiast pen pal Vishal. You and Vishal have been exchanging letters for quite some time now and have started to provide a puzzle in each one of your letters.  Here is his most recent letter:\n",
        "\n",
        "     Hey there! How have you been? I've been great! I just learned about this really cool type of cipher called a  Caesar Cipher. Here's how it works: You take your message, something like \"hello\" and then you shift all of the letters by a certain offset. For example, if I chose an offset of 3 and a message of \"hello\", I would code my message by shifting each letter 3 places to the left (with respect to the alphabet). So \"h\" becomes \"e\", \"e\" becomes, \"b\", \"l\" becomes \"i\", and \"o\" becomes \"l\". Then I have my coded message,\"ebiil\"! Now I can send you my message and the offset and you can decode it. The best thing is that Julius Caesar himself used this cipher, that's why it's called the Caesar Cipher! Isn't that so cool! Okay, now I'm going to send you a longer coded message that you have to decode yourself!\n",
        "    \n",
        "        xuo jxuhu! jxyi yi qd unqcfbu ev q squiqh syfxuh. muhu oek qrbu je tusetu yj? y xefu ie! iudt cu q cuiiqwu rqsa myjx jxu iqcu evviuj!\n",
        "    \n",
        "    This message has an offset of 10. Can you decode it?\n",
        "    \n",
        "\n",
        "#### Step 1: Decode Vishal's Message\n",
        "In the cell below, use your Python skills to decode Vishal's message and print the result. Hint: you can account for shifts that go past the end of the alphabet using the modulus operator, but I'll let you figure out how!"
      ]
    },
    {
      "cell_type": "code",
      "execution_count": null,
      "metadata": {
        "colab": {
          "base_uri": "https://localhost:8080/"
        },
        "id": "0MCjYiLSmodO",
        "outputId": "d0867181-0f2c-47b8-b68d-a2a10cd52321"
      },
      "outputs": [
        {
          "output_type": "stream",
          "name": "stdout",
          "text": [
            "hey there! this is an example of a caesar cipher. were you able to decode it? i hope so! send me a message back with the same offset!\n"
          ]
        }
      ],
      "source": [
        "alphabets= \"abcdefghijklmnopqrstuvwxyz\"\n",
        "letter = \"xuo jxuhu! jxyi yi qd unqcfbu ev q squiqh syfxuh. muhu oek qrbu je tusetu yj? y xefu ie! iudt cu q cuiiqwu rqsa myjx jxu iqcu evviuj!\"\n",
        "\n",
        "def decoder (letter):\n",
        "  decoded = \"\"\n",
        "  for i in letter:\n",
        "    a = i\n",
        "    if alphabets.find(i) >= 0:\n",
        "      a = alphabets[(alphabets.find(i)+10)%26]\n",
        "    decoded += a\n",
        "  return decoded\n",
        "\n",
        "print(decoder(letter))\n"
      ]
    },
    {
      "cell_type": "markdown",
      "metadata": {
        "id": "Ph1JKoUfmodP"
      },
      "source": [
        "#### Step 2: Send Vishal a Coded Message\n",
        "Great job! Now send Vishal back a message using the same offset. Your message can be anything you want! Remember, coding happens in opposite direction of decoding."
      ]
    },
    {
      "cell_type": "code",
      "execution_count": null,
      "metadata": {
        "colab": {
          "base_uri": "https://localhost:8080/",
          "height": 35
        },
        "id": "7P483_itmodR",
        "outputId": "107bd3f0-1cf3-492f-dbac-9b95c86e4a3d"
      },
      "outputs": [
        {
          "output_type": "execute_result",
          "data": {
            "text/plain": [
              "'My name is parth how are you?'"
            ],
            "application/vnd.google.colaboratory.intrinsic+json": {
              "type": "string"
            }
          },
          "metadata": {},
          "execution_count": 6
        }
      ],
      "source": [
        "def coder (letter):\n",
        "  decoded = \"\"\n",
        "  for i in letter:\n",
        "    a = i\n",
        "    if alphabets.find(i) >= 0:\n",
        "      a = alphabets[(alphabets.find(i)-10)%26]\n",
        "    decoded += a\n",
        "  return decoded\n",
        "\n",
        "decoder(coder(\"My name is parth how are you?\"))\n",
        "\n"
      ]
    },
    {
      "cell_type": "markdown",
      "metadata": {
        "id": "QLX4TdK6modS"
      },
      "source": [
        "#### Step 3: Make functions for decoding and coding\n",
        "\n",
        "> Indented block\n",
        "\n",
        "\n",
        "\n",
        "Vishal sent over another reply, this time with two coded messages!\n",
        "    \n",
        "    You're getting the hang of this! Okay here are two more messages, the first one is coded just like before with  an offset of ten, and it contains the hint for decoding the second message!\n",
        "    \n",
        "    First message:\n",
        "    \n",
        "        jxu evviuj veh jxu iusedt cuiiqwu yi vekhjuud.\n",
        "        \n",
        "    Second message:\n",
        "    \n",
        "        bqdradyuzs ygxfubxq omqemd oubtqde fa oapq kagd yqeemsqe ue qhqz yadq eqogdq!\n",
        "    \n",
        "Decode both of these messages. \n",
        "\n",
        "If you haven't already, define two functions `decoder(message, offset)` and `coder(message, offset)` that can be used to quickly decode and code messages given any offset."
      ]
    },
    {
      "cell_type": "code",
      "execution_count": null,
      "metadata": {
        "id": "OnIug5apmodT"
      },
      "outputs": [],
      "source": [
        "def decoder (letter,offset):\n",
        "  decoded = \"\"\n",
        "  for i in letter:\n",
        "    a = i\n",
        "    if alphabets.find(i) >= 0:\n",
        "      a = alphabets[(alphabets.find(i)+offset)%26]\n",
        "    decoded += a\n",
        "  return decoded"
      ]
    },
    {
      "cell_type": "code",
      "execution_count": null,
      "metadata": {
        "id": "4cvMMJ0omodU"
      },
      "outputs": [],
      "source": [
        "def coder (letter,offset):\n",
        "  decoded = \"\"\n",
        "  for i in letter:\n",
        "    a = i\n",
        "    if alphabets.find(i) >= 0:\n",
        "      a = alphabets[(alphabets.find(i)-offset)%26]\n",
        "    decoded += a\n",
        "  return decoded"
      ]
    },
    {
      "cell_type": "code",
      "source": [
        "print(decoder(\"jxu evviuj veh jxu iusedt cuiiqwu yi vekhjuud\",10))"
      ],
      "metadata": {
        "colab": {
          "base_uri": "https://localhost:8080/"
        },
        "id": "YkXg8tVdqy_5",
        "outputId": "2dc7a521-3f0d-4c15-deca-55c2dbdb1f5e"
      },
      "execution_count": null,
      "outputs": [
        {
          "output_type": "stream",
          "name": "stdout",
          "text": [
            "the offset for the second message is fourteen\n"
          ]
        }
      ]
    },
    {
      "cell_type": "code",
      "source": [
        "print(decoder(\"bqdradyuzs ygxfubxq omqemd oubtqde fa oapq kagd yqeemsqe ue qhqz yadq eqogdq!\",14))"
      ],
      "metadata": {
        "colab": {
          "base_uri": "https://localhost:8080/"
        },
        "id": "xlrR_xguqzDb",
        "outputId": "e1020a12-e364-4b19-da1b-51eebcc77465"
      },
      "execution_count": null,
      "outputs": [
        {
          "output_type": "stream",
          "name": "stdout",
          "text": [
            "performing multiple caesar ciphers to code your messages is even more secure!\n"
          ]
        }
      ]
    },
    {
      "cell_type": "markdown",
      "metadata": {
        "id": "6U9-2ikTmodU"
      },
      "source": [
        "#### Step 4: Solving a Caesar Cipher without knowing the shift value\n",
        "\n",
        "Awesome work! While you were working to decode his last two messages, Vishal sent over another letter! He's really been bitten by the crytpo-bug. Read it and see what interesting task he has lined up for you this time.\n",
        "\n",
        "            Hello again friend! I knew you would love the Caesar Cipher, it's a cool simple way to encrypt messages. Did you know that back in Caesar's time, it was considered a very secure way of communication and it took a lot of effort to crack if you were unaware of the value of the shift? That's all changed with computers! Now we can brute force these kinds of ciphers very quickly, as I'm sure you can imagine.\n",
        "            \n",
        "            To test your cryptography skills, this next coded message is going to be harder than the last couple to crack. It's still going to be coded with a Caesar Cipher but this time I'm not going to tell you the value of   the shift. You'll have to brute force it yourself.\n",
        "            \n",
        "            Here's the coded message:\n",
        "            \n",
        "            vhfinmxkl atox kxgwxkxw tee hy maxlx hew vbiaxkl tl hulhexmx. px'ee atox mh kxteer lmxi ni hnk ztfx by px ptgm mh dxxi hnk fxlltzxl ltyx.\n",
        "            \n",
        "            Good luck!\n",
        "            \n",
        "Decode Vishal's most recent message and see what it says!"
      ]
    },
    {
      "cell_type": "code",
      "execution_count": null,
      "metadata": {
        "colab": {
          "base_uri": "https://localhost:8080/"
        },
        "id": "ilt24FximodV",
        "outputId": "a22281fa-16d1-4870-bc3e-748394173859"
      },
      "outputs": [
        {
          "output_type": "stream",
          "name": "stdout",
          "text": [
            "wigjonylm bupy lyhxylyx uff iz nbymy ifx wcjbylm um ivmifyny. qy'ff bupy ni lyuffs mnyj oj iol augy cz qy quhn ni eyyj iol gymmuaym muzy. Number : 1\n",
            "xjhkpozmn cvqz mziyzmzy vgg ja ocznz jgy xdkczmn vn jwnjgzoz. rz'gg cvqz oj mzvggt nozk pk jpm bvhz da rz rvio oj fzzk jpm hznnvbzn nvaz. Number : 2\n",
            "ykilqpano dwra najzanaz whh kb pdaoa khz yeldano wo kxokhapa. sa'hh dwra pk nawhhu opal ql kqn cwia eb sa swjp pk gaal kqn iaoowcao owba. Number : 3\n",
            "zljmrqbop exsb obkaboba xii lc qebpb lia zfmebop xp lyplibqb. tb'ii exsb ql obxiiv pqbm rm lro dxjb fc tb txkq ql hbbm lro jbppxdbp pxcb. Number : 4\n",
            "amknsrcpq fytc pclbcpcb yjj md rfcqc mjb agnfcpq yq mzqmjcrc. uc'jj fytc rm pcyjjw qrcn sn msp eykc gd uc uylr rm iccn msp kcqqyecq qydc. Number : 5\n",
            "bnlotsdqr gzud qdmcdqdc zkk ne sgdrd nkc bhogdqr zr narnkdsd. vd'kk gzud sn qdzkkx rsdo to ntq fzld he vd vzms sn jddo ntq ldrrzfdr rzed. Number : 6\n",
            "computers have rendered all of these old ciphers as obsolete. we'll have to really step up our game if we want to keep our messages safe. Number : 7\n",
            "dpnqvufst ibwf sfoefsfe bmm pg uiftf pme djqifst bt pctpmfuf. xf'mm ibwf up sfbmmz tufq vq pvs hbnf jg xf xbou up lffq pvs nfttbhft tbgf. Number : 8\n",
            "eqorwvgtu jcxg tgpfgtgf cnn qh vjgug qnf ekrjgtu cu qduqngvg. yg'nn jcxg vq tgcnna uvgr wr qwt icog kh yg ycpv vq mggr qwt oguucigu uchg. Number : 9\n",
            "frpsxwhuv kdyh uhqghuhg doo ri wkhvh rog flskhuv dv revrohwh. zh'oo kdyh wr uhdoob vwhs xs rxu jdph li zh zdqw wr nhhs rxu phvvdjhv vdih. Number : 10\n",
            "gsqtyxivw lezi virhivih epp sj xliwi sph gmtlivw ew sfwspixi. ai'pp lezi xs vieppc wxit yt syv keqi mj ai aerx xs oiit syv qiwwekiw weji. Number : 11\n",
            "htruzyjwx mfaj wjsijwji fqq tk ymjxj tqi hnumjwx fx tgxtqjyj. bj'qq mfaj yt wjfqqd xyju zu tzw lfrj nk bj bfsy yt pjju tzw rjxxfljx xfkj. Number : 12\n",
            "iusvazkxy ngbk xktjkxkj grr ul znkyk urj iovnkxy gy uhyurkzk. ck'rr ngbk zu xkgrre yzkv av uax mgsk ol ck cgtz zu qkkv uax skyygmky yglk. Number : 13\n",
            "jvtwbalyz ohcl yluklylk hss vm aolzl vsk jpwolyz hz vizvslal. dl'ss ohcl av ylhssf zalw bw vby nhtl pm dl dhua av rllw vby tlzzhnlz zhml. Number : 14\n",
            "kwuxcbmza pidm zmvlmzml itt wn bpmam wtl kqxpmza ia wjawtmbm. em'tt pidm bw zmittg abmx cx wcz oium qn em eivb bw smmx wcz umaaioma ainm. Number : 15\n",
            "lxvydcnab qjen anwmnanm juu xo cqnbn xum lryqnab jb xkbxuncn. fn'uu qjen cx anjuuh bcny dy xda pjvn ro fn fjwc cx tnny xda vnbbjpnb bjon. Number : 16\n",
            "mywzedobc rkfo boxnobon kvv yp droco yvn mszrobc kc ylcyvodo. go'vv rkfo dy bokvvi cdoz ez yeb qkwo sp go gkxd dy uooz yeb wocckqoc ckpo. Number : 17\n",
            "nzxafepcd slgp cpyopcpo lww zq espdp zwo ntaspcd ld zmdzwpep. hp'ww slgp ez cplwwj depa fa zfc rlxp tq hp hlye ez vppa zfc xpddlrpd dlqp. Number : 18\n",
            "oaybgfqde tmhq dqzpqdqp mxx ar ftqeq axp oubtqde me aneaxqfq. iq'xx tmhq fa dqmxxk efqb gb agd smyq ur iq imzf fa wqqb agd yqeemsqe emrq. Number : 19\n",
            "pbzchgref unir eraqrerq nyy bs gurfr byq pvcuref nf bofbyrgr. jr'yy unir gb ernyyl fgrc hc bhe tnzr vs jr jnag gb xrrc bhe zrffntrf fnsr. Number : 20\n",
            "qcadihsfg vojs fsbrsfsr ozz ct hvsgs czr qwdvsfg og cpgczshs. ks'zz vojs hc fsozzm ghsd id cif uoas wt ks kobh hc yssd cif asggousg gots. Number : 21\n",
            "rdbejitgh wpkt gtcstgts paa du iwtht das rxewtgh ph dqhdatit. lt'aa wpkt id gtpaan hite je djg vpbt xu lt lpci id ztte djg bthhpvth hput. Number : 22\n",
            "secfkjuhi xqlu hudtuhut qbb ev jxuiu ebt syfxuhi qi eriebuju. mu'bb xqlu je huqbbo ijuf kf ekh wqcu yv mu mqdj je auuf ekh cuiiqwui iqvu. Number : 23\n",
            "tfdglkvij yrmv iveuvivu rcc fw kyvjv fcu tzgyvij rj fsjfcvkv. nv'cc yrmv kf ivrccp jkvg lg fli xrdv zw nv nrek kf bvvg fli dvjjrxvj jrwv. Number : 24\n",
            "ugehmlwjk zsnw jwfvwjwv sdd gx lzwkw gdv uahzwjk sk gtkgdwlw. ow'dd zsnw lg jwsddq klwh mh gmj ysew ax ow osfl lg cwwh gmj ewkksywk ksxw. Number : 25\n"
          ]
        }
      ],
      "source": [
        "letter = \"vhfinmxkl atox kxgwxkxw tee hy maxlx hew vbiaxkl tl hulhexmx. px'ee atox mh kxteer lmxi ni hnk ztfx by px ptgm mh dxxi hnk fxlltzxl ltyx.\"\n",
        "\n",
        "for i in range(1,26):\n",
        "  print (decoder(letter,i), \"Number : {}\".format(i))"
      ]
    },
    {
      "cell_type": "markdown",
      "metadata": {
        "id": "RRL24zhZmodW"
      },
      "source": [
        "#### Step 5: The Vigenère Cipher\n",
        "\n",
        "Great work! While you were working on the brute force cracking of the cipher, Vishal sent over another letter. That guy is a letter machine!\n",
        "\n",
        "            Salutations! As you can see, technology has made brute forcing simple ciphers like the Caesar Cipher extremely easy, and us crypto-enthusiasts have had to get more creative and use more complicated ciphers. This next cipher I'm going to teach you is the Vigenère Cipher, invented by an Italian cryptologist named Giovan Battista Bellaso (cool name eh?) in the 16th century, but named after another cryptologist from the 16th century, Blaise de Vigenère.\n",
        "            \n",
        "           The Vigenère Cipher is a polyalphabetic substitution cipher, as opposed to the Caesar Cipher which was a monoalphabetic substitution cipher. What this means is that opposed to having a single shift that is applied to every letter, the Vigenère Cipher has a different shift for each individual letter. The value of the shift for each letter is determined by a given keyword.\n",
        "           \n",
        "           Consider the message\n",
        "           \n",
        "               barry is the spy\n",
        "\n",
        "           If we want to code this message, first we choose a keyword. For this example, we'll use the keyword\n",
        "           \n",
        "               dog\n",
        "               \n",
        "           Now we use the repeat the keyword over and over to generate a _keyword phrase_ that is the same length as the message we want to code. So if we want to code the message \"barry is the spy\" our _keyword phrase_ is \"dogdo gd ogd ogd\". Now we are ready to start coding our message. We shift the each letter of our message by the place value of the corresponding letter in the keyword phrase, assuming that \"a\" has a place value of 0, \"b\" has a place value of 1, and so forth. Remember, we zero-index because this is Python we're talking about!\n",
        "\n",
        "                        message:       b  a  r  r  y    i  s   t  h  e   s  p  y\n",
        "                \n",
        "                 keyword phrase:       d  o  g  d  o    g  d   o  g  d   o  g  d\n",
        "                 \n",
        "          resulting place value:       4  14 15 12 16   24 11  21 25 22  22 17 5\n",
        "      \n",
        "            So we shift \"b\", which has an index of 1, by the index of \"d\", which is 3. This gives us an place value of 4, which is \"e\". Then continue the trend: we shift \"a\" by the place value of \"o\", 14, and get \"o\" again, we shift \"r\" by the place value of \"g\", 15, and get \"x\", shift the next \"r\" by 12 places and \"u\", and so forth. Once we complete all the shifts we end up with our coded message:\n",
        "            \n",
        "                eoxum ov hnh gvb\n",
        "                \n",
        "            As you can imagine, this is a lot harder to crack without knowing the keyword! So now comes the hard part. I'll give you a message and the keyword, and you'll see if you can figure out how to crack it! Ready? Okay here's my message:\n",
        "            \n",
        "                dfc aruw fsti gr vjtwhr wznj? vmph otis! cbx swv jipreneo uhllj kpi rahjib eg fjdkwkedhmp!\n",
        "                \n",
        "            and the keyword to decode my message is \n",
        "            \n",
        "                friends\n",
        "                \n",
        "            Because that's what we are! Good luck friend!\n",
        "           \n",
        "And there it is. Vishal has given you quite the assignment this time! Try to decode his message. It may be helpful to create a function that takes two parameters, the coded message and the keyword and then work towards a solution from there.\n",
        "\n",
        "**NOTE:** Watch out for spaces and punctuation! When there's a space or punctuation mark in the original message, there should be a space/punctuation mark in the corresponding repeated-keyword string as well! "
      ]
    },
    {
      "cell_type": "code",
      "execution_count": null,
      "metadata": {
        "id": "H3Xp8R4DmodY",
        "colab": {
          "base_uri": "https://localhost:8080/",
          "height": 35
        },
        "outputId": "077c14eb-2b3e-4d6a-a723-f4f9f2386b2f"
      },
      "outputs": [
        {
          "output_type": "execute_result",
          "data": {
            "text/plain": [
              "'you were able to decode this? nice work! you are becoming quite the expert at crytography!'"
            ],
            "application/vnd.google.colaboratory.intrinsic+json": {
              "type": "string"
            }
          },
          "metadata": {},
          "execution_count": 18
        }
      ],
      "source": [
        "def new_decoder(coded,keyword):\n",
        "  counter = 0\n",
        "  decoded = \"\"\n",
        "  for i in coded:\n",
        "    a = i\n",
        "    if i in alphabets:\n",
        "      index = alphabets.find(i)\n",
        "      corresponding = alphabets.find(keyword[counter%len(keyword)])\n",
        "      a = alphabets[(index-corresponding)%26]\n",
        "      counter+=1\n",
        "    decoded+=a\n",
        "  return decoded\n",
        "\n",
        "new_decoder(\"dfc aruw fsti gr vjtwhr wznj? vmph otis! cbx swv jipreneo uhllj kpi rahjib eg fjdkwkedhmp!\",\"friends\")      "
      ]
    },
    {
      "cell_type": "markdown",
      "metadata": {
        "collapsed": true,
        "id": "WGtSAGIamodZ"
      },
      "source": [
        "#### Step 6: Send a message with the  Vigenère Cipher\n",
        "Great work decoding the message. For your final task, write a function that can encode a message using a given keyword and write out a message to send to Vishal!\n",
        "\n",
        "*As a bonus, try calling your decoder function on the result of your encryption function. You should get the original message back!*"
      ]
    },
    {
      "cell_type": "code",
      "execution_count": null,
      "metadata": {
        "id": "VyYqakVkmodb",
        "colab": {
          "base_uri": "https://localhost:8080/",
          "height": 35
        },
        "outputId": "f559d6e1-f3d4-491c-a348-de9365b2ea91"
      },
      "outputs": [
        {
          "output_type": "execute_result",
          "data": {
            "text/plain": [
              "'My name is Parth!!! how are you, doing ?123'"
            ],
            "application/vnd.google.colaboratory.intrinsic+json": {
              "type": "string"
            }
          },
          "metadata": {},
          "execution_count": 21
        }
      ],
      "source": [
        "def new_coder(decoded,keyword):\n",
        "  counter = 0\n",
        "  coded = \"\"\n",
        "  for i in decoded:\n",
        "    a = i\n",
        "    if i in alphabets:\n",
        "      index = alphabets.find(i)\n",
        "      corresponding = alphabets.find(keyword[counter%len(keyword)])\n",
        "      a = alphabets[(index+corresponding)%26]\n",
        "      counter+=1\n",
        "    coded+=a\n",
        "  return coded\n",
        "\n",
        "new_decoder(new_coder(\"My name is Parth!!! how are you, doing ?123\",\"bruv\"),\"bruv\")"
      ]
    },
    {
      "cell_type": "markdown",
      "metadata": {
        "id": "Br-LORGgmode"
      },
      "source": [
        "#### Conclusion\n",
        "Over the course of this project you've learned about two different cipher methods and have used your Python skills to code and decode messages. There are all types of other facinating ciphers out there to explore, and Python is the perfect language to implement them with, so go exploring! "
      ]
    }
  ],
  "metadata": {
    "kernelspec": {
      "display_name": "Python 3",
      "language": "python",
      "name": "python3"
    },
    "language_info": {
      "codemirror_mode": {
        "name": "ipython",
        "version": 3
      },
      "file_extension": ".py",
      "mimetype": "text/x-python",
      "name": "python",
      "nbconvert_exporter": "python",
      "pygments_lexer": "ipython3",
      "version": "3.7.4"
    },
    "colab": {
      "name": "coded_correspondence.ipynb",
      "provenance": [],
      "include_colab_link": true
    }
  },
  "nbformat": 4,
  "nbformat_minor": 0
}